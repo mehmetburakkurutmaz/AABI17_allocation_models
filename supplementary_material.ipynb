{
 "cells": [
  {
   "cell_type": "markdown",
   "metadata": {},
   "source": [
    "# Bayesian Non-negative Matrix Factorization as an Allocation Model"
   ]
  },
  {
   "cell_type": "markdown",
   "metadata": {
    "hide_input": false
   },
   "source": [
    "## Model"
   ]
  },
  {
   "cell_type": "markdown",
   "metadata": {},
   "source": [
    "\\begin{eqnarray}\n",
    "L_j & \\sim & \\mathcal{G}(a, b) = \\exp\\left((a-1)\\log L_j - b L_j - \\log\\Gamma(a) + a\\log b \\right) \\\\\n",
    "W_{:,k} & \\sim & \\mathcal{D}(\\alpha) = \\exp\\left(\\log{\\Gamma(\\sum_{i} \\alpha_{i})} - {\\sum_{i} \\log \\Gamma(\\alpha_{i})} + \\sum_{i} (\\alpha_{i} - 1) \\log{W_{ik}} \\right) \\\\\n",
    "H_{:,j} & \\sim & \\mathcal{D}(\\beta) = \\exp\\left(\\log{\\Gamma(\\sum_{k} \\beta_{k})} - {\\sum_{k} \\log \\Gamma(\\beta_{k})} + \\sum_{k} (\\beta_{k} - 1) \\log{H_{kj}} \\right) \\\\\n",
    "S_{ijk} & \\sim & \\mathcal{PO}(W_{ik} H_{kj} L_j) = \\exp \\left(S_{ijk}\\log (W_{ik} H_{kj}L_j) - W_{ik} H_{kj} L_j - \\log\\Gamma (S_{ijk} + 1) \\right) \\\\\n",
    "X_{ij} & = &  \\sum_k S_{ijk}\n",
    "\\end{eqnarray}"
   ]
  },
  {
   "cell_type": "markdown",
   "metadata": {},
   "source": [
    "### Full Joint Distribution"
   ]
  },
  {
   "cell_type": "markdown",
   "metadata": {},
   "source": [
    "\\begin{eqnarray}\n",
    "p(W,H,L,S) & = & p(S \\mid W,H,L) p(W) p(H) p(L) \\\\\n",
    "& = & \\prod_{ijk}  \\exp \\left(S_{ijk}\\log (W_{ik} H_{kj}L_j) - W_{ik} H_{kj} L_j - \\log\\Gamma (S_{ijk} + 1) \\right)  \\\\\n",
    "& & \\prod_{k} \\exp\\left(\\log{\\Gamma(\\sum_{i} \\alpha_{i})} - {\\sum_{i} \\log \\Gamma(\\alpha_{i})} + \\sum_{i} (\\alpha_{i} - 1) \\log{W_{ik}} \\right) \\\\\n",
    "& & \\prod_{j} \\exp\\left(\\log{\\Gamma(\\sum_{k} \\beta_{k})} - {\\sum_{k} \\log \\Gamma(\\beta_{k})} + \\sum_{k} (\\beta_{k} - 1) \\log{H_{kj}} \\right) \\\\\n",
    "& & \\prod_{j} \\exp\\left((a-1)\\log L_j - b L_j - \\log\\Gamma(a) + a\\log b \\right) \\\\\n",
    "\\end{eqnarray}"
   ]
  },
  {
   "cell_type": "markdown",
   "metadata": {},
   "source": [
    "### Posterior Distribution"
   ]
  },
  {
   "cell_type": "markdown",
   "metadata": {},
   "source": [
    "\\begin{eqnarray}\n",
    "p(W,H,L \\mid S) & \\propto & p(W,H,L,S) \\\\\n",
    "& = & \\prod_{ijk}  \\exp \\left(S_{ijk}\\log (W_{ik} H_{kj}L_j) - W_{ik} H_{kj} L_j - \\log\\Gamma (S_{ijk} + 1) \\right)  \\\\\n",
    "& & \\prod_{k} \\exp\\left(\\log{\\Gamma(\\sum_{i} \\alpha_{i})} - {\\sum_{i} \\log \\Gamma(\\alpha_{i})} + \\sum_{i} (\\alpha_{i} - 1) \\log{W_{ik}} \\right) \\\\\n",
    "& & \\prod_{j} \\exp\\left(\\log{\\Gamma(\\sum_{k} \\beta_{k})} - {\\sum_{k} \\log \\Gamma(\\beta_{k})} + \\sum_{k} (\\beta_{k} - 1) \\log{H_{kj}} \\right) \\\\\n",
    "& & \\prod_{j} \\exp\\left((a-1)\\log L_j - b L_j - \\log\\Gamma(a) + a\\log b \\right) \\\\\n",
    "& \\propto & \\prod_{ijk}  \\exp \\left(S_{ijk}\\log (W_{ik} H_{kj}L_j) - W_{ik} H_{kj} L_j \\right)  \\\\\n",
    "& & \\prod_{k} \\exp\\left(\\sum_{i} (\\alpha_{i} - 1) \\log{W_{ik}} \\right) \\\\\n",
    "& & \\prod_{j} \\exp\\left(\\sum_{k} (\\beta_{k} - 1) \\log{H_{kj}} \\right) \\\\\n",
    "& & \\prod_{j} \\exp\\left((a-1)\\log L_j - b L_j \\right) \\\\\n",
    "& = & \\prod_{k} \\exp\\left(\\sum_{i} \\left(\\alpha_{i} + \\sum_j S_{ijk} - 1 \\right) \\log{W_{ik}} \\right) \\\\\n",
    "& & \\prod_{j} \\exp\\left(\\sum_{k} \\left(\\beta_{k} + \\sum_i S_{ijk} - 1 \\right) \\log{H_{kj}} \\right) \\\\\n",
    "& & \\prod_{j} \\exp\\left( \\left(a + \\sum_{ik} S_{ijk} -1 \\right)\\log L_j - (b+1) L_j \\right) \\\\\n",
    "\\end{eqnarray}"
   ]
  },
  {
   "cell_type": "markdown",
   "metadata": {},
   "source": [
    "Therefore, we can conclude that\n",
    "\n",
    "\\begin{equation}\n",
    "p(W,H,L \\mid S) = p(W \\mid S) p(H \\mid S) p(L \\mid S)\n",
    "\\end{equation}"
   ]
  },
  {
   "cell_type": "markdown",
   "metadata": {},
   "source": [
    "where\n",
    "\n",
    "\\begin{eqnarray}\n",
    "p(L_j \\mid S) & = & \\mathcal{G} \\left(a + \\sum_{ik} S_{ijk}, b + 1 \\right) \\\\\n",
    "p(W_{:,k} \\mid S) & = & \\mathcal{D} \\left(\\alpha + \\sum_{j} S_{ijk} \\right) \\\\\n",
    "p(H_{:,j} \\mid S) & = & \\mathcal{D} \\left(\\beta + \\sum_{i} S_{ijk} \\right) \\\\\n",
    "\\end{eqnarray}"
   ]
  },
  {
   "cell_type": "markdown",
   "metadata": {},
   "source": [
    "Conditional distributions of parameters can be found explicitly by the product of above distributions:\n",
    "\n",
    "\\begin{eqnarray}\n",
    "p(W,H,L \\mid S) & = & p(W \\mid S) p(H \\mid S) p(L \\mid S) \\\\\n",
    "& = & \\prod_{k} \\exp\\left(\\log{\\Gamma \\left( \\sum_{i} \\alpha_{i} + \\sum_{ij} S_{ijk} \\right)} - {\\sum_{i} \\log \\Gamma \\left( \\alpha_{i} + \\sum_j S_{ijk} \\right)} + \\sum_{i} \\left(\\alpha_{i} + \\sum_j S_{ijk} - 1 \\right) \\log{W_{ik}} \\right) \\\\\n",
    "& & \\prod_{j} \\exp\\left(\\log{\\Gamma \\left(\\sum_{k} \\beta_{k} + \\sum_{ik} S_{ijk} \\right)} - {\\sum_{k} \\log \\Gamma \\left( \\beta_{k} + \\sum_i S_{ijk} \\right)} + \\sum_{k} \\left(\\beta_{k} + \\sum_i S_{ijk} - 1 \\right) \\log{H_{kj}} \\right) \\\\\n",
    "& & \\prod_{j} \\exp\\left( \\left(a + \\sum_{ik} S_{ijk} -1 \\right)\\log L_j - (b+1) L_j  - \\log\\Gamma \\left(a + \\sum_{ik} S_{ijk} \\right) + \\left(a + \\sum_{ik} S_{ijk} \\right) \\log (b+1) \\right) \\\\\n",
    "\\end{eqnarray}"
   ]
  },
  {
   "cell_type": "markdown",
   "metadata": {},
   "source": [
    "Note that, we used the following proposition in the calculations above."
   ]
  },
  {
   "cell_type": "markdown",
   "metadata": {},
   "source": [
    "**Proposition:**\n",
    "\n",
    "\\begin{equation}\n",
    "\\sum_{ik} W_{ik}H_{kj} = 1\n",
    "\\end{equation}"
   ]
  },
  {
   "cell_type": "markdown",
   "metadata": {},
   "source": [
    "*Proof:* From Dirichlet distributions,\n",
    "\n",
    "\\begin{eqnarray}\n",
    "\\sum_{i} W_{ik} & = & 1 \\\\\n",
    "\\sum_{i} W_{ik} H_{kj} & = & H_{kj} \\\\\n",
    "\\sum_{ik} W_{ik} H_{kj} & = & \\sum_{k} H_{kj} = 1\n",
    "\\end{eqnarray}"
   ]
  },
  {
   "cell_type": "markdown",
   "metadata": {},
   "source": [
    "### Marginal"
   ]
  },
  {
   "cell_type": "markdown",
   "metadata": {},
   "source": [
    "Marginal probability of S can be calculated by the following identity:\n",
    "\\begin{eqnarray}\n",
    "p(S) & = & \\frac{p(W,H,L,S)}{p(W,H,L \\mid S)} \\\\\n",
    "\\log p(S) & = & \\log p(W,H,L,S) - \\log p(W,H,L \\mid S)\n",
    "\\end{eqnarray}"
   ]
  },
  {
   "cell_type": "markdown",
   "metadata": {},
   "source": [
    "by plugging joint and posterior distributions into the identity above:\n",
    "\n",
    "\\begin{eqnarray}\n",
    "\\log{p(S)} \n",
    "& = & \\sum_{ijk} \\left(S_{ijk}\\log (W_{ik} H_{kj}L_j) - W_{ik} H_{kj} L_j - \\log\\Gamma (S_{ijk} + 1) \\right) \\\\\n",
    "& + & \\sum_{k} \\left(\\log{\\Gamma(\\sum_{i} \\alpha_{i})} - {\\sum_{i} \\log \\Gamma(\\alpha_{i})} + \\sum_{i} (\\alpha_{i} - 1) \\log{W_{ik}} \\right) \\\\\n",
    "& + & \\sum_{j} \\left(\\log{\\Gamma(\\sum_{k} \\beta_{k})} - {\\sum_{k} \\log \\Gamma(\\beta_{k})} + \\sum_{k} (\\beta_{k} - 1) \\log{H_{kj}} \\right) \\\\\n",
    "& + & \\sum_{j} \\left((a-1)\\log L_j - b L_j - \\log\\Gamma(a) + a\\log b \\right) \\\\\n",
    "& - & \\sum_{k} \\left(\\log{\\Gamma \\left(\\sum_{ij} \\alpha_{i} + S_{ijk} \\right)} - {\\sum_{i} \\log \\Gamma \\left( \\alpha_{i} + \\sum_j S_{ijk} \\right)} + \\sum_{i} \\left(\\alpha_{i} + \\sum_j S_{ijk} - 1 \\right) \\log{W_{ik}} \\right) \\\\\n",
    "& - & \\sum_{j} \\left(\\log{\\Gamma \\left(\\sum_{ik} \\beta_{k} + S_{ijk} \\right)} - {\\sum_{k} \\log \\Gamma \\left( \\beta_{k} + \\sum_i S_{ijk} \\right)} + \\sum_{k} \\left(\\beta_{k} + \\sum_i S_{ijk} - 1 \\right) \\log{H_{kj}} \\right) \\\\\n",
    "& - & \\sum_{j} \\left( \\left(a + \\sum_{ik} S_{ijk} -1 \\right)\\log L_j - (b+1) L_j  - \\log\\Gamma \\left(a + \\sum_{ik} S_{ijk} \\right) + \\left(a + \\sum_{ik} S_{ijk} \\right) \\log (b+1) \\right) \\\\\n",
    "\\end{eqnarray}"
   ]
  },
  {
   "cell_type": "markdown",
   "metadata": {},
   "source": [
    "\\begin{eqnarray}\n",
    "\\log{p(S)} & = &\n",
    "\\sum_{k} \\left(\\log{\\Gamma(\\sum_{i} \\alpha_{i})} - {\\sum_{i} \\log \\Gamma(\\alpha_{i})} - \\log{\\Gamma \\left(\\sum_{ij} \\alpha_{i} + S_{ijk} \\right)} + {\\sum_{i} \\log \\Gamma \\left( \\alpha_{i} + \\sum_j S_{ijk} \\right)} \\right) \\\\\n",
    "& + & \\sum_{j} \\left(\\log{\\Gamma(\\sum_{k} \\beta_{k})} - {\\sum_{k} \\log \\Gamma(\\beta_{k})} - \\log{\\Gamma \\left(\\sum_{ik} \\beta_{k} + S_{ijk} \\right)} + {\\sum_{k} \\log \\Gamma \\left( \\beta_{k} + \\sum_i S_{ijk} \\right)}\\right) \\\\\n",
    "& + & \\sum_{j} \\left(- \\log\\Gamma(a) + a\\log b + \\log\\Gamma \\left(a + \\sum_{ik} S_{ijk} \\right) - \\left(a + \\sum_{ik} S_{ijk} \\right) \\log (b+1)\\right) \\\\\n",
    "& - & \\sum_{ijk} \\left(\\log\\Gamma (S_{ijk} + 1) \\right) \\\\\n",
    "\\end{eqnarray}"
   ]
  },
  {
   "cell_type": "markdown",
   "metadata": {},
   "source": [
    "### Approximate Multiplicative BLD"
   ]
  },
  {
   "cell_type": "markdown",
   "metadata": {},
   "source": [
    "Our original problem is the following:\n",
    "\n",
    "\\begin{equation}\n",
    "\\begin{aligned}\n",
    "& \\max \n",
    "& & \\ell(S) = \\sum_k \\sum_i \\log \\Gamma( \\alpha_i + S_{i+k} ) + \\sum_j \\sum_k \\log \\Gamma( \\beta_k + S_{+jk} ) \\\\\n",
    "& & & - \\sum_k \\log \\Gamma( \\Sigma_\\alpha + S_{++k})   - \\sum_i \\sum_j \\sum_k \\log \\Gamma(S_{ijk} + 1) \\\\\n",
    "& \\text{s. t.}\n",
    "& & \\sum_k S_{ijk} = X_{ij} \\\\\n",
    "& & & S_{ijk} \\geq 0 \\\\\n",
    "\\end{aligned}\n",
    "\\end{equation}"
   ]
  },
  {
   "cell_type": "markdown",
   "metadata": {},
   "source": [
    "by adding further constraints we will end up with a lower bound to original problem.\n",
    "\n",
    "\\begin{equation}\n",
    "\\begin{aligned}\n",
    "& \\max \n",
    "& & \\hat{\\ell}_{Y,Z}(S) = \\sum_k \\sum_i \\log \\Gamma( \\alpha_i + Y_{ik} ) + \\sum_j \\sum_k \\log \\Gamma( \\beta_k + Z_{jk} ) \\\\\n",
    "& & & - \\sum_k \\log \\Gamma( \\Sigma_\\alpha + Y_{+k}) - \\sum_i \\sum_j \\sum_k \\log \\Gamma(S_{ijk} + 1) \\\\\n",
    "& \\text{s. t.}\n",
    "& & \\sum_k S_{ijk} = X_{ij} \\\\\n",
    "& & & \\sum_j S_{ijk} = Y_{ik} \\\\\n",
    "& & & \\sum_i S_{ijk} = Z_{kj} \\\\\n",
    "& & & S_{ijk} \\geq 0 \\\\\n",
    "\\end{aligned}\n",
    "\\end{equation}"
   ]
  },
  {
   "cell_type": "markdown",
   "metadata": {},
   "source": [
    "It is obvious that for any $Y$ and $Z$,\n",
    "\n",
    "\\begin{equation}\n",
    "\\max_S \\ell(S) \\geq \\max_S \\hat{\\ell}_{Y,Z}(S) \\\\ \n",
    "\\end{equation}\n",
    "\n",
    "because the feasible set of the second problem is the subset of the original one. One can show that by the Lagrange multipliers, the solution of the $\\arg \\max_{S}\\hat{\\ell}_{Y,Z}(S)$ is in the form of\n",
    "\n",
    "\\begin{equation}\n",
    "\\psi (S_{ijk}+1) = \\log(\\lambda_{ij} \\nu_{ik} \\mu_{kj})\n",
    "\\end{equation}\n",
    "\n",
    "where $\\lambda_{ij}, \\nu_{ik}, \\mu_{kj} \\geq 0$."
   ]
  },
  {
   "cell_type": "markdown",
   "metadata": {},
   "source": [
    "** Proof **: Let $ \\log \\lambda_{ij}, \\log \\nu_{ik}, \\log \\mu_{kj}$ be our multipliers. Lagrangian is defined by\n",
    "\n",
    "\\begin{equation}\n",
    "\\Lambda(S,\\lambda, \\nu, \\mu) =^+ - \\sum_i \\sum_j \\sum_k \\log \\Gamma(S_{ijk} + 1) + \\sum_{ij} \\log \\lambda_{ij} (\\sum_k S_{ijk} - X_{ij}) + \\sum_{ik} \\log \\nu_{ik} (\\sum_j S_{ijk} - Y_{ik}) + \\sum_{ik} \\log \\mu_{kj} (\\sum_i S_{ijk} - Z_{kj})\n",
    "\\end{equation}\n",
    "\n",
    "Setting the partial derivative with respect to S equal to 0 yields\n",
    "\n",
    "\\begin{eqnarray}\n",
    "\\frac{\\partial \\Lambda}{S_{ijk}} & = & - \\psi (S_{ijk}+1) + \\log (\\lambda_{ij} \\nu_{ik} \\mu_{kj}) \\\\\n",
    "\\psi (S_{ijk}+1) & = & \\log(\\lambda_{ij} \\nu_{ik} \\mu_{kj}) \\\\\n",
    "\\end{eqnarray}\n",
    "\n",
    "Since we know\n",
    "\n",
    "\\begin{equation}\n",
    "\\max_S \\ell(S) =\\max_{Y,Z} \\max_{S} \\hat{\\ell}_{Y,Z}(S) \\\\ \n",
    "\\end{equation}"
   ]
  },
  {
   "cell_type": "markdown",
   "metadata": {},
   "source": [
    "Solution to the original problem is also the following form,\n",
    "\n",
    "\\begin{eqnarray}\n",
    "\\psi (S_{ijk}+1) & = & \\log(\\lambda_{ij} \\nu_{ik} \\mu_{kj}) \\\\\n",
    "\\exp(\\psi (S_{ijk}+1)) & = & \\lambda_{ij} \\nu_{ik} \\mu_{kj} \\\\\n",
    "\\end{eqnarray}"
   ]
  },
  {
   "cell_type": "markdown",
   "metadata": {},
   "source": [
    "#### Approximate Problem"
   ]
  },
  {
   "cell_type": "markdown",
   "metadata": {},
   "source": [
    "By the inspiration of the form of the optimal $S$, we will seek a solution in the form of\n",
    "\n",
    "\\begin{equation}\n",
    "S_{ijk} = \\lambda_{ij} \\nu_{ik} \\mu_{kj} \\\\\n",
    "\\end{equation}\n",
    "\n",
    "Since we are restricting our attention to a subset of the all $S$'s, optimal $S$ having this form will give us a lower bound. Under this assumption, we can further simplify the form of the $S$, by employing the constraint $X_{ij} = \\sum_k S_{ijk}$ as follows:\n",
    "\n",
    "\\begin{eqnarray}\n",
    "X_{ij} & = & \\lambda_{ij} \\sum_{c} \\nu_{ic} \\mu_{cj} \\\\\n",
    "\\lambda_{ij} & = & \\frac{X_{ij}}{\\sum_{c} \\nu_{ic} \\mu_{cj}} \\\\\n",
    "S_{ijk} & = & X_{ij} \\frac{\\nu_{ik} \\mu_{kj}}{\\sum_{c} \\nu_{ic} \\mu_{cj}} \\\\\n",
    "\\end{eqnarray}"
   ]
  },
  {
   "cell_type": "markdown",
   "metadata": {},
   "source": [
    "Then, gradients can be calculated by\n",
    "\n",
    "\\begin{eqnarray}\n",
    "\\frac{\\partial S_{ijk'}}{\\partial \\nu_{ik}} & = &\n",
    "\\begin{cases}\n",
    "\\frac{X_{ij} \\mu_{kj}}{\\sum_c \\nu_{ic} \\mu_{cj}} -X_{ij} \\mu_{kj} \\frac{\\nu_{ik'} \\mu_{k'j}}{(\\sum_c \\nu_{ic} \\mu_{cj})^2}, & \\text{if } k' = k \\\\\n",
    "-X_{ij} \\mu_{kj} \\frac{\\nu_{ik'} \\mu_{k'j} }{(\\sum_c \\nu_{ic} \\mu_{cj})^2}, & \\text{if } k' \\neq k \\\\\n",
    "\\end{cases} \\\\\n",
    "\\end{eqnarray}\n",
    "\n",
    "\\begin{eqnarray}\n",
    "\\frac{\\partial S_{ijk'}}{\\partial \\mu_{kj}} & = & \n",
    "\\begin{cases}\n",
    "\\frac{X_{ij} \\nu_{ik}}{\\sum_c \\nu_{ic} \\mu_{cj}} - X_{ij} \\nu_{ik} \\frac{\\nu_{ik'} \\mu_{k'j}}{(\\sum_c \\nu_{ic} \\mu_{cj})^2}, & \\text{if } k' = k \\\\\n",
    "-X_{ij} \\nu_{ik} \\frac{\\nu_{ik'} \\mu_{k'j} }{(\\sum_c \\nu_{ic} \\mu_{cj})^2}, & \\text{if } k' \\neq k \\\\\n",
    "\\end{cases} \\\\\n",
    "\\end{eqnarray}"
   ]
  },
  {
   "cell_type": "markdown",
   "metadata": {},
   "source": [
    "\\begin{eqnarray*}\n",
    "\\frac{ \\partial \\ell (S)}{\\partial \\nu_{ik}} \n",
    "& = & \\sum_{jk'} \\frac{\\partial S_{ijk'}}{\\partial \\nu_{ik}} \\frac{ \\partial \\ell (S)}{\\partial S_{ijk'}} \\\\\n",
    "& = &  \\sum_{jk'} \\frac{\\partial S_{ijk'}}{\\partial \\nu_{ik}} \\left( \\psi \\left( \\beta_{k'} + \\sum_i S_{ijk'} \\right) - \\psi \\left( S_{ijk'} + 1 \\right) \\right)\\\\\n",
    "& - & \\sum_{jk'} \\frac{\\partial S_{ijk'}}{\\partial \\nu_{ik}} \\left( \\psi \\left(\\sum_{i} \\alpha_{i} + \\sum_{ij} S_{ijk'} \\right) - \\psi\\left( \\alpha_{i} + \\sum_j S_{ijk'} \\right)\n",
    "\\right) \\\\\n",
    "& = &  \\sum_{jk'} \\frac{\\partial S_{ijk'}}{\\partial \\nu_{ik}} \\nabla L^+_{ijk'} - \\sum_{jk'} \\frac{\\partial S_{ijk'}}{\\partial \\nu_{ik}} \\nabla L^-_{ijk'} \\\\\n",
    "& = &  \\sum_{j}\\frac{X_{ij} \\mu_{kj}}{\\sum_c \\nu_{ic} \\mu_{cj}} \\nabla L^+_{ijk} + \\sum_{jk'} X_{ij} \\mu_{kj} \\frac{\\nu_{ik'} \\mu_{k'j}}{(\\sum_c \\nu_{ic} \\mu_{cj})^2} \\nabla L^-_{ijk'}\\\\\n",
    "& - & \\left( \\sum_j \\frac{X_{ij} \\mu_{kj}}{\\sum_c \\nu_{ic} \\mu_{cj}} \\nabla L^-_{ijk} + \\sum_{jk'} X_{ij} \\mu_{kj} \\frac{\\nu_{ik'} \\mu_{k'j}}{(\\sum_c \\nu_{ic} \\mu_{cj})^2} \\nabla L^+_{ijk'} \\right)\\\\\n",
    "\\end{eqnarray*}"
   ]
  },
  {
   "cell_type": "markdown",
   "metadata": {},
   "source": [
    "\\begin{eqnarray}\n",
    "\\frac{ \\partial \\ell (S)}{\\partial \\mu_{kj}} \n",
    "& = & \\sum_{ik'} \\frac{\\partial S_{ijk'}}{\\partial \\mu_{kj}} \\frac{ \\partial \\ell (S)}{\\partial S_{ijk'}} \\\\\n",
    "& = &  \\sum_{ik'} \\frac{\\partial S_{ijk'}}{\\partial \\mu_{kj}} \\left( \\psi \\left( \\beta_{k'} + \\sum_i S_{ijk'} \\right) - \\psi \\left( S_{ijk'} + 1 \\right) \\right)\\\\\n",
    "& - & \\sum_{ik'} \\frac{\\partial S_{ijk'}}{\\partial \\mu_{kj}} \\left( \\psi \\left(\\sum_{i} \\alpha_{i} + \\sum_{ij} S_{ijk'} \\right) - \\psi\\left( \\alpha_{i} + \\sum_j S_{ijk'} \\right) \\right) \\\\\n",
    "& = &  \\sum_{ik'} \\frac{\\partial S_{ijk'}}{\\partial \\mu_{kj}} \\nabla L^+_{ijk'} - \\sum_{ik'} \\frac{\\partial S_{ijk'}}{\\partial \\mu_{kj}} \\nabla L^-_{ijk'} \\\\\n",
    "& = &  \\sum_{i}\\frac{X_{ij} \\nu_{ik}}{\\sum_c \\nu_{ic} \\mu_{cj}} \\nabla L^+_{ijk} + \\sum_{ik'} X_{ij} \\nu_{ik} \\frac{\\nu_{ik'} \\mu_{k'j}}{(\\sum_c \\nu_{ic} \\mu_{cj})^2} \\nabla L^-_{ijk'}\\\\\n",
    "& - & \\left( \\sum_i \\frac{X_{ij} \\nu_{ik}}{\\sum_c \\nu_{ic} \\mu_{cj}} \\nabla L^-_{ijk} + \\sum_{ik'} X_{ij} \\nu_{ik} \\frac{\\nu_{ik'} \\mu_{k'j}}{(\\sum_c \\nu_{ic} \\mu_{cj})^2} \\nabla L^+_{ijk'} \\right)\\\\\n",
    "\\end{eqnarray}"
   ]
  },
  {
   "cell_type": "markdown",
   "metadata": {},
   "source": [
    "and we will arrive the following multiplicative update rules for $\\nu$ and $\\mu$:\n",
    "\n",
    "\\begin{eqnarray}\n",
    "\\nu_{ik} & \\gets & \\nu_{ik} \\frac{\\sum_{j}\\frac{X_{ij} \\mu_{kj}}{\\sum_c \\nu_{ic} \\mu_{cj}} \\nabla L^+_{ijk} + \\sum_{jk'} X_{ij} \\mu_{kj} \\frac{\\nu_{ik'} \\mu_{k'j}}{(\\sum_c \\nu_{ic} \\mu_{cj})^2} \\nabla L^-_{ijk'}}{\\sum_j \\frac{X_{ij} \\mu_{kj}}{\\sum_c \\nu_{ic} \\mu_{cj}} \\nabla L^-_{ijk} + \\sum_{jk'} X_{ij} \\mu_{kj} \\frac{\\nu_{ik'} \\mu_{k'j}}{(\\sum_c \\nu_{ic} \\mu_{cj})^2} \\nabla L^+_{ijk'}} \\\\\n",
    "\\mu_{kj} & \\gets & \\mu_{kj} \\frac{\\sum_{i}\\frac{X_{ij} \\nu_{ik}}{\\sum_c \\nu_{ic} \\mu_{cj}} \\nabla L^+_{ijk} + \\sum_{ik'} X_{ij} \\nu_{ik} \\frac{\\nu_{ik'} \\mu_{k'j}}{(\\sum_c \\nu_{ic} \\mu_{cj})^2} \\nabla L^-_{ijk'}}{\\sum_i \\frac{X_{ij} \\nu_{ik}}{\\sum_c \\nu_{ic} \\mu_{cj}} \\nabla L^-_{ijk} + \\sum_{ik'} X_{ij} \\nu_{ik} \\frac{\\nu_{ik'} \\mu_{k'j}}{(\\sum_c \\nu_{ic} \\mu_{cj})^2} \\nabla L^+_{ijk'} } \\\\\n",
    "S_{ijk} & \\gets & X_{ij} \\frac{\\nu_{ik} \\mu_{kj}}{\\sum_{c} \\nu_{ic} \\mu_{cj}} \\\\\n",
    "\\end{eqnarray}"
   ]
  }
 ],
 "metadata": {
  "hide_input": false,
  "kernelspec": {
   "display_name": "Python 3",
   "language": "python",
   "name": "python3"
  },
  "language_info": {
   "codemirror_mode": {
    "name": "ipython",
    "version": 3
   },
   "file_extension": ".py",
   "mimetype": "text/x-python",
   "name": "python",
   "nbconvert_exporter": "python",
   "pygments_lexer": "ipython3",
   "version": "3.6.2"
  },
  "toc": {
   "nav_menu": {},
   "number_sections": true,
   "sideBar": true,
   "skip_h1_title": false,
   "toc_cell": false,
   "toc_position": {},
   "toc_section_display": "block",
   "toc_window_display": false
  },
  "varInspector": {
   "cols": {
    "lenName": 16,
    "lenType": 16,
    "lenVar": 40
   },
   "kernels_config": {
    "python": {
     "delete_cmd_postfix": "",
     "delete_cmd_prefix": "del ",
     "library": "var_list.py",
     "varRefreshCmd": "print(var_dic_list())"
    },
    "r": {
     "delete_cmd_postfix": ") ",
     "delete_cmd_prefix": "rm(",
     "library": "var_list.r",
     "varRefreshCmd": "cat(var_dic_list()) "
    }
   },
   "types_to_exclude": [
    "module",
    "function",
    "builtin_function_or_method",
    "instance",
    "_Feature"
   ],
   "window_display": false
  }
 },
 "nbformat": 4,
 "nbformat_minor": 2
}
